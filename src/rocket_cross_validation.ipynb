{
 "cells": [
  {
   "cell_type": "code",
   "execution_count": 1,
   "metadata": {
    "collapsed": true,
    "pycharm": {
     "name": "#%%\n"
    }
   },
   "outputs": [],
   "source": [
    "from sklearn.linear_model import RidgeClassifier\n",
    "from sklearn.metrics import f1_score, accuracy_score\n",
    "from torch import zeros\n",
    "from tqdm.auto import tqdm\n",
    "from yaml import load as load_yaml, FullLoader\n",
    "\n",
    "from dataset import KIDataset, k_fold_cross_validator\n",
    "from models.rocket import ROCKET\n",
    "from processor.processor import Leif\n",
    "from train import train_eval_rocket_segment\n",
    "from utils.const import SEED\n",
    "from utils.misc import set_random_state\n",
    "from utils.path import config_path\n",
    "\n",
    "set_random_state(SEED)\n",
    "!conda activate eyetrackpdc\n",
    "\n",
    "# Data parameters\n",
    "BINARY_CLF = True\n",
    "\n",
    "# Rocket parameters\n",
    "NUM_KERNELS = 1000\n",
    "NORMALIZE = True\n",
    "\n",
    "# Classifier parameters\n",
    "REG_FACTOR = 1e5\n",
    "\n",
    "# Number of folds in cross validation\n",
    "K = 5"
   ]
  },
  {
   "cell_type": "markdown",
   "metadata": {
    "collapsed": false,
    "pycharm": {
     "name": "#%% md\n"
    }
   },
   "source": [
    "## Initialize Datasets and Dataloaders"
   ]
  },
  {
   "cell_type": "code",
   "execution_count": 2,
   "metadata": {
    "collapsed": false,
    "pycharm": {
     "name": "#%%\n"
    }
   },
   "outputs": [
    {
     "name": "stdout",
     "output_type": "stream",
     "text": [
      "loaded dataset from C:\\Users\\hejpa\\Documents\\GitHub\\eye-track-pdc\\data\\ki\\tmp\\ki-dataset-train\n",
      "loaded dataset from C:\\Users\\hejpa\\Documents\\GitHub\\eye-track-pdc\\data\\ki\\tmp\\ki-dataset-test\n"
     ]
    }
   ],
   "source": [
    "with open(f'{config_path}/leif.yaml', 'r') as reader:\n",
    "    config = load_yaml(reader, Loader=FullLoader)\n",
    "\n",
    "# Configure processor\n",
    "processor = Leif(config)\n",
    "\n",
    "# Initialize Datasets\n",
    "train_val_ds = KIDataset(data_processor=processor, train=True)\n",
    "test_ds = KIDataset(data_processor=processor, train=False)"
   ]
  },
  {
   "cell_type": "code",
   "execution_count": null,
   "outputs": [
    {
     "data": {
      "text/plain": "  0%|          | 0/5 [00:00<?, ?fold/s]",
      "application/vnd.jupyter.widget-view+json": {
       "version_major": 2,
       "version_minor": 0,
       "model_id": "a62ff4d8f383415da6399acb07de7bfe"
      }
     },
     "metadata": {},
     "output_type": "display_data"
    }
   ],
   "source": [
    "scores, accuracies, predictions = zeros(K), zeros(K), zeros(K)\n",
    "for i, (train_ds, val_ds) in tqdm(enumerate(k_fold_cross_validator(train_val_ds, k=K)), unit='fold', total=K):\n",
    "    set_random_state(SEED)\n",
    "\n",
    "    pred, val_batch = train_eval_rocket_segment(train_ds, val_ds,\n",
    "                                                rocket=ROCKET(c_in=train_ds.x.shape[1],\n",
    "                                                              seq_len=train_ds.x.shape[2],\n",
    "                                                              n_kernels=NUM_KERNELS,\n",
    "                                                              normalize=NORMALIZE),\n",
    "                                                clf=RidgeClassifier(alpha=REG_FACTOR, random_state=SEED))\n",
    "\n",
    "    # Compute F1 Score\n",
    "    scores[i] = f1_score(val_batch.y.numpy(), pred, average='weighted')\n",
    "    accuracies[i] = accuracy_score(val_batch.y.numpy(), pred)\n",
    "    predictions.append((pred, val_batch))\n",
    "\n",
    "# Print average fold score\n",
    "print(f'average fold f1 score: {scores.mean()}')\n",
    "# Print score for each fold\n",
    "print('\\n'.join([f'fold {i}: {score}' for i, score in enumerate(scores)]))\n",
    "# Print average fold accuracy\n",
    "print(f'average fold accuracy: {accuracies.mean():.2%}')\n",
    "# Print accuracy for each fold\n",
    "print('\\n'.join([f'fold {i}: {accuracy:.2%}' for i, accuracy in enumerate(accuracies)]))"
   ],
   "metadata": {
    "collapsed": false,
    "pycharm": {
     "name": "#%%\n",
     "is_executing": true
    }
   }
  },
  {
   "cell_type": "markdown",
   "metadata": {
    "collapsed": false,
    "pycharm": {
     "name": "#%% md\n"
    }
   },
   "source": []
  }
 ],
 "metadata": {
  "kernelspec": {
   "display_name": "eyetrackpdc",
   "language": "python",
   "name": "python3"
  },
  "language_info": {
   "codemirror_mode": {
    "name": "ipython",
    "version": 3
   },
   "file_extension": ".py",
   "mimetype": "text/x-python",
   "name": "python",
   "nbconvert_exporter": "python",
   "pygments_lexer": "ipython3",
   "version": "3.10.9"
  },
  "vscode": {
   "interpreter": {
    "hash": "2dc672c21a9d49d41798d64eab36069eb53c1b78e80bf8cffffc318405fb4d08"
   }
  }
 },
 "nbformat": 4,
 "nbformat_minor": 0
}