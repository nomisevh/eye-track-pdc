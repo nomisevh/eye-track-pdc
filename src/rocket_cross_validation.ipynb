{
 "cells": [
  {
   "cell_type": "code",
   "execution_count": 28,
   "metadata": {
    "collapsed": true,
    "pycharm": {
     "name": "#%%\n"
    }
   },
   "outputs": [],
   "source": [
    "\n",
    "from matplotlib import pyplot as plt\n",
    "from numpy import arange\n",
    "from sklearn.linear_model import RidgeClassifier\n",
    "from sklearn.metrics import f1_score, accuracy_score\n",
    "from torch import zeros\n",
    "from tqdm.auto import tqdm\n",
    "from yaml import load as load_yaml, FullLoader\n",
    "\n",
    "from dataset import KIDataset, k_fold_cross_validator\n",
    "from models.rocket import ROCKET\n",
    "from processor.processor import Leif\n",
    "from train import train_eval_rocket_segment\n",
    "from utils.const import SEED\n",
    "from utils.metric import patient_soft_accuracy\n",
    "from utils.misc import set_random_state\n",
    "from utils.path import config_path\n",
    "\n",
    "set_random_state(SEED)\n",
    "!conda activate eyetrackpdc\n",
    "\n",
    "# Data parameters\n",
    "BINARY_CLF = True\n",
    "\n",
    "# Rocket parameters\n",
    "NUM_KERNELS = 1000\n",
    "NORMALIZE = True\n",
    "\n",
    "# Classifier parameters\n",
    "REG_FACTOR = 1e5\n",
    "\n",
    "# Number of folds in cross validation\n",
    "K = 5"
   ]
  },
  {
   "cell_type": "markdown",
   "metadata": {
    "collapsed": false,
    "pycharm": {
     "name": "#%% md\n"
    }
   },
   "source": [
    "## Initialize Datasets and Dataloaders"
   ]
  },
  {
   "cell_type": "code",
   "execution_count": 2,
   "metadata": {
    "collapsed": false,
    "pycharm": {
     "name": "#%%\n"
    }
   },
   "outputs": [
    {
     "name": "stdout",
     "output_type": "stream",
     "text": [
      "loaded dataset from C:\\Users\\hejpa\\Documents\\GitHub\\eye-track-pdc\\data\\ki\\tmp\\ki-dataset-train\n",
      "loaded dataset from C:\\Users\\hejpa\\Documents\\GitHub\\eye-track-pdc\\data\\ki\\tmp\\ki-dataset-test\n"
     ]
    }
   ],
   "source": [
    "with open(f'{config_path}/leif.yaml', 'r') as reader:\n",
    "    config = load_yaml(reader, Loader=FullLoader)\n",
    "\n",
    "# Configure processor\n",
    "processor = Leif(config)\n",
    "\n",
    "# Initialize Datasets\n",
    "train_val_ds = KIDataset(data_processor=processor, train=True)\n",
    "test_ds = KIDataset(data_processor=processor, train=False)"
   ]
  },
  {
   "cell_type": "code",
   "execution_count": 3,
   "outputs": [
    {
     "data": {
      "text/plain": "  0%|          | 0/5 [00:00<?, ?fold/s]",
      "application/vnd.jupyter.widget-view+json": {
       "version_major": 2,
       "version_minor": 0,
       "model_id": "e32adcae45614473bc61d533d20b69b0"
      }
     },
     "metadata": {},
     "output_type": "display_data"
    },
    {
     "name": "stdout",
     "output_type": "stream",
     "text": [
      "average fold f1 score: 0.6476844549179077\n",
      "fold 0: 0.6242900490760803\n",
      "fold 1: 0.674968421459198\n",
      "fold 2: 0.6512922048568726\n",
      "fold 3: 0.6331955194473267\n",
      "fold 4: 0.6546762585639954\n",
      "average fold accuracy: 64.00%\n",
      "fold 0: 61.48%\n",
      "fold 1: 66.97%\n",
      "fold 2: 64.28%\n",
      "fold 3: 62.46%\n",
      "fold 4: 64.83%\n"
     ]
    }
   ],
   "source": [
    "scores, accuracies, predictions = zeros(K), zeros(K), []\n",
    "for i, (train_ds, val_ds) in tqdm(enumerate(k_fold_cross_validator(train_val_ds, k=K)), unit='fold', total=K):\n",
    "    set_random_state(SEED)\n",
    "\n",
    "    pred, val_batch = train_eval_rocket_segment(train_ds, val_ds,\n",
    "                                                rocket=ROCKET(c_in=train_ds.x.shape[1],\n",
    "                                                              seq_len=train_ds.x.shape[2],\n",
    "                                                              n_kernels=NUM_KERNELS,\n",
    "                                                              normalize=NORMALIZE),\n",
    "                                                clf=RidgeClassifier(alpha=REG_FACTOR, random_state=SEED))\n",
    "\n",
    "    # Compute F1 Score\n",
    "    scores[i] = f1_score(val_batch.y.numpy(), pred, average='macro')\n",
    "    accuracies[i] = accuracy_score(val_batch.y.numpy(), pred)\n",
    "    predictions.append((pred, val_batch))\n",
    "\n",
    "# Print average fold score\n",
    "print(f'average fold f1 score: {scores.mean()}')\n",
    "# Print score for each fold\n",
    "print('\\n'.join([f'fold {i}: {score}' for i, score in enumerate(scores)]))\n",
    "# Print average fold accuracy\n",
    "print(f'average fold accuracy: {accuracies.mean():.2%}')\n",
    "# Print accuracy for each fold\n",
    "print('\\n'.join([f'fold {i}: {accuracy:.2%}' for i, accuracy in enumerate(accuracies)]))"
   ],
   "metadata": {
    "collapsed": false,
    "pycharm": {
     "name": "#%%\n"
    }
   }
  },
  {
   "cell_type": "markdown",
   "source": [
    "### Use segment predictions to predict trial"
   ],
   "metadata": {
    "collapsed": false,
    "pycharm": {
     "name": "#%% md\n"
    }
   }
  },
  {
   "cell_type": "code",
   "execution_count": 35,
   "outputs": [
    {
     "data": {
      "text/plain": "<Figure size 640x480 with 1 Axes>",
      "image/png": "[encoded data removed]"
     },
     "metadata": {},
     "output_type": "display_data"
    }
   ],
   "source": [
    "thresholds = arange(0, 1, 0.01)\n",
    "threshold_scores = zeros(len(thresholds))\n",
    "for i, th in enumerate(thresholds):\n",
    "    trial_scores, trial_accuracies = zeros(K), zeros(K)\n",
    "    for j, (pred, batch) in enumerate(predictions):\n",
    "        trial_pred, trial_label, trial_accuracy = patient_soft_accuracy(segment_scores=pred, y=batch.y, z=batch.z,\n",
    "                                                                        threshold=th)\n",
    "\n",
    "        # Compute F1 Score\n",
    "        trial_scores[j] = f1_score(trial_label, trial_pred, average='macro')\n",
    "        trial_accuracies[j] = accuracy_score(trial_label, trial_pred)\n",
    "\n",
    "    threshold_scores[i] = trial_scores.mean()\n",
    "    continue\n",
    "\n",
    "    # Print average fold trial score\n",
    "    print(f'average fold f1 trial score: {trial_scores.mean()}')\n",
    "    # Print trial_score for each fold\n",
    "    print('\\n'.join([f'fold {i}: {trial_score}' for i, trial_score in enumerate(trial_scores)]))\n",
    "    # Print average fold trial accuracy\n",
    "    print(f'average fold trial accuracy: {trial_accuracies.mean():.2%}')\n",
    "    # Print trial_accuracy for each fold\n",
    "    print('\\n'.join([f'fold {i}: {trial_accuracy:.2%}' for i, trial_accuracy in enumerate(trial_accuracies)]))\n",
    "\n",
    "plt.plot(thresholds, threshold_scores)\n",
    "plt.show()"
   ],
   "metadata": {
    "collapsed": false,
    "pycharm": {
     "name": "#%%\n"
    }
   }
  },
  {
   "cell_type": "code",
   "execution_count": 36,
   "outputs": [
    {
     "name": "stdout",
     "output_type": "stream",
     "text": [
      "0.43\n"
     ]
    }
   ],
   "source": [
    "from numpy import argmax\n",
    "\n",
    "print(thresholds[argmax(threshold_scores)])"
   ],
   "metadata": {
    "collapsed": false,
    "pycharm": {
     "name": "#%%\n"
    }
   }
  },
  {
   "cell_type": "markdown",
   "metadata": {
    "collapsed": false,
    "pycharm": {
     "name": "#%% md\n"
    }
   },
   "source": []
  }
 ],
 "metadata": {
  "kernelspec": {
   "display_name": "eyetrackpdc",
   "language": "python",
   "name": "python3"
  },
  "language_info": {
   "codemirror_mode": {
    "name": "ipython",
    "version": 3
   },
   "file_extension": ".py",
   "mimetype": "text/x-python",
   "name": "python",
   "nbconvert_exporter": "python",
   "pygments_lexer": "ipython3",
   "version": "3.10.9"
  },
  "vscode": {
   "interpreter": {
    "hash": "2dc672c21a9d49d41798d64eab36069eb53c1b78e80bf8cffffc318405fb4d08"
   }
  }
 },
 "nbformat": 4,
 "nbformat_minor": 0
}