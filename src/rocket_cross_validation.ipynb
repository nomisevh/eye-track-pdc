{
 "cells": [
  {
   "cell_type": "code",
   "execution_count": 1,
   "metadata": {
    "collapsed": true,
    "pycharm": {
     "name": "#%%\n"
    }
   },
   "outputs": [],
   "source": [
    "from sklearn.linear_model import RidgeClassifier\n",
    "from sklearn.metrics import f1_score, accuracy_score\n",
    "from torch import zeros\n",
    "from torch.utils.data import DataLoader\n",
    "from torchsampler import ImbalancedDatasetSampler\n",
    "from tqdm.auto import tqdm\n",
    "from yaml import load as load_yaml, FullLoader\n",
    "\n",
    "from dataset import KIDataset, k_fold_cross_validator\n",
    "from models.rocket import ROCKET\n",
    "from processor.processor import Leif\n",
    "from utils.const import SEED\n",
    "from utils.data import binarize\n",
    "from utils.misc import set_random_state\n",
    "from utils.path import config_path\n",
    "\n",
    "set_random_state(SEED)\n",
    "!conda activate eyetrackpdc\n",
    "\n",
    "# Data parameters\n",
    "BINARY_CLF = True\n",
    "\n",
    "# Rocket parameters\n",
    "NUM_KERNELS = 1000\n",
    "NORMALIZE = True\n",
    "\n",
    "# Classifier parameters\n",
    "REG_FACTOR = 1e5\n",
    "\n",
    "# Number of folds in cross validation\n",
    "K = 5"
   ]
  },
  {
   "cell_type": "markdown",
   "metadata": {
    "collapsed": false,
    "pycharm": {
     "name": "#%% md\n"
    }
   },
   "source": [
    "## Initialize Datasets and Dataloaders"
   ]
  },
  {
   "cell_type": "code",
   "execution_count": 2,
   "metadata": {
    "collapsed": false,
    "pycharm": {
     "name": "#%%\n"
    }
   },
   "outputs": [
    {
     "data": {
      "text/plain": "loading files: 0files [00:00, ?files/s]",
      "application/vnd.jupyter.widget-view+json": {
       "version_major": 2,
       "version_minor": 0,
       "model_id": "05e8e61717f34f74b431864d83fae011"
      }
     },
     "metadata": {},
     "output_type": "display_data"
    },
    {
     "name": "stdout",
     "output_type": "stream",
     "text": [
      "skipped 1 files (position max value outlier)\n",
      "skipped 5 files (position snr outlier)\n",
      "skipped 41 files (position mean velocity outlier)\n",
      "skipped 1 files (drift max value outlier)\n",
      "skipped 3 files (drift snr outlier)\n",
      "skipped 1 files (drift mean velocity outlier)\n",
      "skipped 2 files (no target movement)\n"
     ]
    },
    {
     "name": "stderr",
     "output_type": "stream",
     "text": [
      "segmenting time series: 100%|██████████| 156/156 [00:09<00:00, 15.91ts/s]\n"
     ]
    },
    {
     "data": {
      "text/plain": "loading files: 0files [00:00, ?files/s]",
      "application/vnd.jupyter.widget-view+json": {
       "version_major": 2,
       "version_minor": 0,
       "model_id": "7c2879b1e9034cea8f26d58deb18248d"
      }
     },
     "metadata": {},
     "output_type": "display_data"
    },
    {
     "name": "stderr",
     "output_type": "stream",
     "text": [
      "segmenting time series: 100%|██████████| 89/89 [00:05<00:00, 15.76ts/s]\n"
     ]
    }
   ],
   "source": [
    "with open(f'{config_path}/leif.yaml', 'r') as reader:\n",
    "    config = load_yaml(reader, Loader=FullLoader)\n",
    "\n",
    "# Configure processor\n",
    "processor = Leif(config)\n",
    "\n",
    "# Initialize Datasets\n",
    "train_val_ds = KIDataset(data_processor=processor, train=True)\n",
    "test_ds = KIDataset(data_processor=processor, train=False)"
   ]
  },
  {
   "cell_type": "code",
   "execution_count": 3,
   "outputs": [
    {
     "data": {
      "text/plain": "  0%|          | 0/5 [00:00<?, ?fold/s]",
      "application/vnd.jupyter.widget-view+json": {
       "version_major": 2,
       "version_minor": 0,
       "model_id": "89b065bb0b60495eb1926f325647a4a3"
      }
     },
     "metadata": {},
     "output_type": "display_data"
    },
    {
     "name": "stdout",
     "output_type": "stream",
     "text": [
      "average fold f1 score: 0.6133731603622437\n",
      "fold 0: 0.5948056578636169\n",
      "fold 1: 0.6530392169952393\n",
      "fold 2: 0.6237348318099976\n",
      "fold 3: 0.5800867676734924\n",
      "fold 4: 0.6151996850967407\n",
      "average fold accuracy: 60.98%\n",
      "fold 0: 58.49%\n",
      "fold 1: 66.76%\n",
      "fold 2: 61.65%\n",
      "fold 3: 57.04%\n",
      "fold 4: 60.95%\n"
     ]
    }
   ],
   "source": [
    "scores, accuracies = zeros(K), zeros(K)\n",
    "for i, (train_ds, val_ds) in tqdm(enumerate(k_fold_cross_validator(train_val_ds, k=K)), unit='fold', total=K):\n",
    "    set_random_state(SEED)\n",
    "\n",
    "    # Binarize dataset after split to make sure split is stratified w.r.t all three classes\n",
    "    if BINARY_CLF:\n",
    "        for ds in [train_ds, val_ds, test_ds]:\n",
    "            binarize(ds)\n",
    "\n",
    "    # Initialize Dataloaders\n",
    "    train_dl = DataLoader(train_ds,\n",
    "                          batch_size=train_ds.x.shape[0],\n",
    "                          sampler=ImbalancedDatasetSampler(train_ds, callback_get_label=lambda item: item.y))\n",
    "    val_dl = DataLoader(val_ds, batch_size=val_ds.x.shape[0])\n",
    "\n",
    "    # Initialize Rocket\n",
    "    rocket = ROCKET(c_in=train_ds.x.shape[1],\n",
    "                    seq_len=train_ds.x.shape[2],\n",
    "                    n_kernels=NUM_KERNELS,\n",
    "                    normalize=NORMALIZE)\n",
    "\n",
    "    # Initialize Classifier\n",
    "    clf = RidgeClassifier(alpha=REG_FACTOR, random_state=SEED)\n",
    "\n",
    "    # Batch is entire dataset\n",
    "    train_batch = next(iter(train_dl))\n",
    "    val_batch = next(iter(val_dl))\n",
    "\n",
    "    # Perform ROCKET transformation stage on train set\n",
    "    features = rocket(train_batch.x)\n",
    "\n",
    "    # Fit Classifier\n",
    "    clf.fit(features, train_batch.y.numpy())\n",
    "\n",
    "    # Perform ROCKET transformation stage on validation set\n",
    "    test_features = rocket(val_batch.x)\n",
    "\n",
    "    # Make predictions on validation set\n",
    "    pred = clf.predict(test_features)\n",
    "\n",
    "    # The RidgeClassifier maps the targets to {-1, 1}, but our labels are {0, 1}\n",
    "    pred[pred < 0] = 0\n",
    "\n",
    "    # Compute F1 Score\n",
    "    scores[i] = f1_score(val_batch.y.numpy(), pred, average='weighted')\n",
    "    accuracies[i] = accuracy_score(val_batch.y.numpy(), pred)\n",
    "\n",
    "# Print average fold score\n",
    "print(f'average fold f1 score: {scores.mean()}')\n",
    "# Print score for each fold\n",
    "print('\\n'.join([f'fold {i}: {score}' for i, score in enumerate(scores)]))\n",
    "# Print average fold accuracy\n",
    "print(f'average fold accuracy: {accuracies.mean():.2%}')\n",
    "# Print accuracy for each fold\n",
    "print('\\n'.join([f'fold {i}: {accuracy:.2%}' for i, accuracy in enumerate(accuracies)]))"
   ],
   "metadata": {
    "collapsed": false,
    "pycharm": {
     "name": "#%%\n"
    }
   }
  },
  {
   "cell_type": "markdown",
   "metadata": {
    "collapsed": false,
    "pycharm": {
     "name": "#%% md\n"
    }
   },
   "source": []
  }
 ],
 "metadata": {
  "kernelspec": {
   "display_name": "eyetrackpdc",
   "language": "python",
   "name": "python3"
  },
  "language_info": {
   "codemirror_mode": {
    "name": "ipython",
    "version": 3
   },
   "file_extension": ".py",
   "mimetype": "text/x-python",
   "name": "python",
   "nbconvert_exporter": "python",
   "pygments_lexer": "ipython3",
   "version": "3.10.9"
  },
  "vscode": {
   "interpreter": {
    "hash": "2dc672c21a9d49d41798d64eab36069eb53c1b78e80bf8cffffc318405fb4d08"
   }
  }
 },
 "nbformat": 4,
 "nbformat_minor": 0
}