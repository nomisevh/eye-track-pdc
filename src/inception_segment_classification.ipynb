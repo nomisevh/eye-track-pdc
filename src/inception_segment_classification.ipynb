{
 "cells": [
  {
   "cell_type": "code",
   "execution_count": 1,
   "outputs": [],
   "source": [
    "from matplotlib import pyplot as plt\n",
    "from sklearn.ensemble import RandomForestClassifier\n",
    "from sklearn.linear_model import RidgeClassifier\n",
    "from sklearn.metrics import classification_report, ConfusionMatrixDisplay, confusion_matrix\n",
    "from sklearn.metrics import f1_score\n",
    "from torch.utils.data import DataLoader\n",
    "from torchsampler import ImbalancedDatasetSampler\n",
    "from yaml import load as load_yaml, FullLoader\n",
    "\n",
    "from dataset import KIDataset, train_test_split_stratified\n",
    "from models.inceptiontime import LitInceptionTimeModel\n",
    "from processor.processor import Leif\n",
    "from utils.const import SEED\n",
    "from utils.data import binarize\n",
    "from utils.metric import patient_soft_accuracy\n",
    "from utils.misc import set_random_state\n",
    "from utils.path import config_path, checkpoint_path\n",
    "\n",
    "set_random_state(SEED)\n",
    "!conda activate eyetrackpdc\n",
    "\n",
    "# Data parameters\n",
    "BINARY_CLF = True"
   ],
   "metadata": {
    "collapsed": false,
    "pycharm": {
     "name": "#%%\n"
    }
   }
  },
  {
   "cell_type": "markdown",
   "source": [
    "### Load Configs"
   ],
   "metadata": {
    "collapsed": false,
    "pycharm": {
     "name": "#%% md\n"
    }
   }
  },
  {
   "cell_type": "code",
   "execution_count": 2,
   "outputs": [],
   "source": [
    "with open(config_path.joinpath('leif.yaml')) as reader:\n",
    "    processor_config = load_yaml(reader, Loader=FullLoader)\n",
    "with open(config_path.joinpath('transformer.yaml')) as reader:\n",
    "    transformer_config = load_yaml(reader, Loader=FullLoader)"
   ],
   "metadata": {
    "collapsed": false,
    "pycharm": {
     "name": "#%%\n"
    }
   }
  },
  {
   "cell_type": "markdown",
   "source": [
    "### Initialize the processor"
   ],
   "metadata": {
    "collapsed": false,
    "pycharm": {
     "name": "#%% md\n"
    }
   }
  },
  {
   "cell_type": "code",
   "execution_count": 3,
   "outputs": [],
   "source": [
    "# Configure processor\n",
    "processor = Leif(processor_config)"
   ],
   "metadata": {
    "collapsed": false,
    "pycharm": {
     "name": "#%%\n"
    }
   }
  },
  {
   "cell_type": "markdown",
   "source": [
    "### Prepare Data (segments)"
   ],
   "metadata": {
    "collapsed": false,
    "pycharm": {
     "name": "#%% md\n"
    }
   }
  },
  {
   "cell_type": "code",
   "execution_count": 4,
   "outputs": [
    {
     "name": "stdout",
     "output_type": "stream",
     "text": [
      "loaded dataset from C:\\Users\\hejpa\\Documents\\GitHub\\eye-track-pdc\\data\\ki\\tmp\\ki-HC,PD_OFF,PD_ON-seg-train.pth\n",
      "loaded dataset from C:\\Users\\hejpa\\Documents\\GitHub\\eye-track-pdc\\data\\ki\\tmp\\ki-HC,PD_OFF,PD_ON-seg-test.pth\n"
     ]
    }
   ],
   "source": [
    "# Initialize Datasets\n",
    "train_val_ds = KIDataset(data_processor=processor, train=True, bundle_as_trials=False, use_triplets=False)\n",
    "train_ds, val_ds = train_test_split_stratified(train_val_ds, test_size=0.2)\n",
    "test_ds = KIDataset(data_processor=processor, train=False, bundle_as_trials=False, use_triplets=False)\n",
    "\n",
    "# Binarize dataset after split to make sure split is stratified w.r.t all three classes\n",
    "if BINARY_CLF:\n",
    "    for ds in [train_ds, val_ds, test_ds]:\n",
    "        binarize(ds)\n",
    "\n",
    "# Initialize Dataloaders\n",
    "train_dl = DataLoader(train_ds,\n",
    "                      batch_size=len(train_ds),\n",
    "                      sampler=ImbalancedDatasetSampler(train_ds, callback_get_label=lambda item: item.y))\n",
    "val_dl = DataLoader(val_ds, batch_size=(len(val_ds)))\n",
    "test_dl = DataLoader(test_ds, batch_size=(len(test_ds)))"
   ],
   "metadata": {
    "collapsed": false,
    "pycharm": {
     "name": "#%%\n"
    }
   }
  },
  {
   "cell_type": "markdown",
   "source": [
    "### Initialize and Load Models"
   ],
   "metadata": {
    "collapsed": false,
    "pycharm": {
     "name": "#%% md\n"
    }
   }
  },
  {
   "cell_type": "code",
   "execution_count": 5,
   "outputs": [],
   "source": [
    "inception_time = LitInceptionTimeModel.load_from_checkpoint(checkpoint_path.joinpath('epoch=51-step=208.ckpt'))\n",
    "\n",
    "# Freeze parameters of the encoder\n",
    "inception_time.freeze()\n",
    "\n",
    "# Initialize classifiers\n",
    "forest_clf = RandomForestClassifier(\n",
    "    random_state=SEED,\n",
    "    n_jobs=1,\n",
    "    n_estimators=200,\n",
    "    max_samples=0.826,\n",
    "    max_depth=2\n",
    ")\n",
    "ridge_clf = RidgeClassifier(alpha=1e2, random_state=SEED)"
   ],
   "metadata": {
    "collapsed": false,
    "pycharm": {
     "name": "#%%\n"
    }
   }
  },
  {
   "cell_type": "markdown",
   "source": [
    "### Fit Classifiers"
   ],
   "metadata": {
    "collapsed": false,
    "pycharm": {
     "name": "#%% md\n"
    }
   }
  },
  {
   "cell_type": "code",
   "execution_count": 6,
   "outputs": [],
   "source": [
    "# For evaluation metrics\n",
    "# TODO move to dataset as class_names attribute\n",
    "labels = ['HC', 'PD']\n",
    "\n",
    "# Batch is entire dataset\n",
    "train_batch = next(iter(train_dl))\n",
    "test_batch = next(iter(test_dl))"
   ],
   "metadata": {
    "collapsed": false,
    "pycharm": {
     "name": "#%%\n"
    }
   }
  },
  {
   "cell_type": "code",
   "execution_count": 7,
   "outputs": [
    {
     "name": "stderr",
     "output_type": "stream",
     "text": [
      "C:\\Users\\hejpa\\Anaconda3\\envs\\eyetrackpdc\\lib\\site-packages\\torch\\nn\\modules\\conv.py:310: UserWarning: Using padding='same' with even kernel lengths and odd dilation may require a zero-padded copy of the input be created (Triggered internally at C:\\cb\\pytorch_1000000000000\\work\\aten\\src\\ATen\\native\\Convolution.cpp:896.)\n",
      "  self.padding, self.dilation, self.groups)\n"
     ]
    },
    {
     "data": {
      "text/plain": "RidgeClassifier(alpha=100.0, random_state=42)"
     },
     "execution_count": 7,
     "metadata": {},
     "output_type": "execute_result"
    }
   ],
   "source": [
    "train_embeddings = inception_time(train_batch.x)\n",
    "forest_clf.fit(train_embeddings.detach(), train_batch.y)\n",
    "ridge_clf.fit(train_embeddings.detach(), train_batch.y)"
   ],
   "metadata": {
    "collapsed": false,
    "pycharm": {
     "name": "#%%\n"
    }
   }
  },
  {
   "cell_type": "markdown",
   "source": [
    "### Evaluate random forest classifier"
   ],
   "metadata": {
    "collapsed": false,
    "pycharm": {
     "name": "#%% md\n"
    }
   }
  },
  {
   "cell_type": "code",
   "execution_count": 8,
   "outputs": [
    {
     "name": "stdout",
     "output_type": "stream",
     "text": [
      "mean F1 score: 0.5563766284693478\n",
      "Segment classification on test set:\n",
      "              precision    recall  f1-score   support\n",
      "\n",
      "          HC       0.38      0.61      0.47       297\n",
      "          PD       0.77      0.56      0.65       682\n",
      "\n",
      "    accuracy                           0.58       979\n",
      "   macro avg       0.57      0.58      0.56       979\n",
      "weighted avg       0.65      0.58      0.59       979\n",
      "\n"
     ]
    },
    {
     "data": {
      "text/plain": "<Figure size 640x480 with 2 Axes>",
      "image/png": "[encoded data removed]"
     },
     "metadata": {},
     "output_type": "display_data"
    }
   ],
   "source": [
    "test_embeddings = inception_time(test_batch.x)\n",
    "\n",
    "pred = forest_clf.predict(test_embeddings.detach())\n",
    "\n",
    "# The RidgeClassifier maps the targets to {-1, 1}, but our labels are {0, 1}\n",
    "pred[pred < 0] = 0\n",
    "\n",
    "# Compute metrics\n",
    "report = classification_report(test_batch.y, pred, target_names=labels)\n",
    "\n",
    "print(f\"mean F1 score: {f1_score(test_batch.y, pred, average='macro')}\")\n",
    "print(f'Segment classification on test set:\\n{report}')\n",
    "\n",
    "# Construct the confusion matrix\n",
    "cf_matrix = confusion_matrix(test_batch.y, pred)\n",
    "\n",
    "figure = ConfusionMatrixDisplay(cf_matrix, display_labels=labels).plot(cmap='Blues')\n",
    "figure.ax_.set_title('segment classification')\n",
    "plt.show()"
   ],
   "metadata": {
    "collapsed": false,
    "pycharm": {
     "name": "#%%\n"
    }
   }
  },
  {
   "cell_type": "code",
   "execution_count": 9,
   "outputs": [
    {
     "name": "stdout",
     "output_type": "stream",
     "text": [
      "mean F1 score: 0.5608242686983891\n",
      "Segment classification on test set:\n",
      "              precision    recall  f1-score   support\n",
      "\n",
      "          HC       0.38      0.43      0.40       297\n",
      "          PD       0.74      0.70      0.72       682\n",
      "\n",
      "    accuracy                           0.62       979\n",
      "   macro avg       0.56      0.56      0.56       979\n",
      "weighted avg       0.63      0.62      0.62       979\n",
      "\n"
     ]
    },
    {
     "data": {
      "text/plain": "<Figure size 640x480 with 2 Axes>",
      "image/png": "[encoded data removed]"
     },
     "metadata": {},
     "output_type": "display_data"
    }
   ],
   "source": [
    "pred = ridge_clf.predict(test_embeddings.detach())\n",
    "\n",
    "# The RidgeClassifier maps the targets to {-1, 1}, but our labels are {0, 1}\n",
    "pred[pred < 0] = 0\n",
    "\n",
    "# Compute metrics\n",
    "report = classification_report(test_batch.y, pred, target_names=labels)\n",
    "\n",
    "print(f\"mean F1 score: {f1_score(test_batch.y, pred, average='macro')}\")\n",
    "print(f'Segment classification on test set:\\n{report}')\n",
    "\n",
    "# Construct the confusion matrix\n",
    "cf_matrix = confusion_matrix(test_batch.y, pred)\n",
    "\n",
    "figure = ConfusionMatrixDisplay(cf_matrix, display_labels=labels).plot(cmap='Blues')\n",
    "figure.ax_.set_title('segment classification')\n",
    "plt.show()"
   ],
   "metadata": {
    "collapsed": false,
    "pycharm": {
     "name": "#%%\n"
    }
   }
  },
  {
   "cell_type": "code",
   "execution_count": 13,
   "outputs": [
    {
     "name": "stdout",
     "output_type": "stream",
     "text": [
      "aggregated f1 score: 0.6812144212523719\n",
      "aggregated accuracy: 70.83%\n"
     ]
    },
    {
     "data": {
      "text/plain": "<Figure size 640x480 with 2 Axes>",
      "image/png": "[encoded data removed]"
     },
     "metadata": {},
     "output_type": "display_data"
    }
   ],
   "source": [
    "p_pred, p_label, p_acc = patient_soft_accuracy(segment_scores=pred, y=test_batch.y, z=test_batch.z,\n",
    "                                               threshold=.5)\n",
    "print(f\"aggregated f1 score: {f1_score(p_label, p_pred, average='macro')}\")\n",
    "print(f'aggregated accuracy: {p_acc:.2%}')\n",
    "\n",
    "cf_matrix = confusion_matrix(p_label, p_pred)\n",
    "\n",
    "figure = ConfusionMatrixDisplay(cf_matrix, display_labels=labels).plot(cmap='Blues')\n",
    "figure.ax_.set_title('segment classification')\n",
    "plt.show()"
   ],
   "metadata": {
    "collapsed": false,
    "pycharm": {
     "name": "#%%\n"
    }
   }
  }
 ],
 "metadata": {
  "kernelspec": {
   "display_name": "Python 3",
   "language": "python",
   "name": "python3"
  },
  "language_info": {
   "codemirror_mode": {
    "name": "ipython",
    "version": 2
   },
   "file_extension": ".py",
   "mimetype": "text/x-python",
   "name": "python",
   "nbconvert_exporter": "python",
   "pygments_lexer": "ipython2",
   "version": "2.7.6"
  }
 },
 "nbformat": 4,
 "nbformat_minor": 0
}