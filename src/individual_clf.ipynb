{
 "cells": [
  {
   "cell_type": "markdown",
   "metadata": {},
   "source": [
    "# Segment Classification"
   ]
  },
  {
   "cell_type": "code",
   "execution_count": 1,
   "metadata": {},
   "outputs": [],
   "source": [
    "import os.path\n",
    "import sys\n",
    "from typing import Tuple\n",
    "\n",
    "sys.path.append('../')\n",
    "\n",
    "import matplotlib.pyplot as plt\n",
    "import numpy as np\n",
    "import torch\n",
    "import torch.nn as nn\n",
    "import torch.nn.functional as F\n",
    "from sklearn.metrics import accuracy_score, confusion_matrix, ConfusionMatrixDisplay\n",
    "from torch.utils.data import DataLoader, Dataset\n",
    "from tqdm import tqdm\n",
    "\n",
    "from dataset.ki import KIDataset\n",
    "from einops import rearrange\n",
    "from einops.layers.torch import Rearrange\n",
    "from models.classifier import IndividualClassifier\n",
    "from models.inception import InceptionTimeModel\n",
    "from utils.data import PadCollate\n",
    "from utils.misc import set_random_state\n",
    "from utils.path import checkpoints_path as MODELS_PATH\n",
    "\n",
    "torch.set_default_dtype(torch.float)\n",
    "SEED = 42\n",
    "DEVICE = 'cuda'\n",
    "INCLUDE_PDON_TF = True\n",
    "INCLUDE_PDON_SEGM = True\n",
    "BINARY_CLF = True\n",
    "N_EPOCHS = 400\n",
    "N_EPOCHS_CLF = 100\n",
    "EMBEDDER_CHKPT_FPATH = os.path.join(MODELS_PATH, f'inception_time{\"_pdon\" if INCLUDE_PDON_SEGM else \"\"}.pth')\n",
    "CLF_CHKPT_FPATH = os.path.join(MODELS_PATH, f'linear_clf{\"_pdon\" if INCLUDE_PDON_SEGM else \"\"}.pth')\n",
    "IND_CLF_CHKPT_FPATH = os.path.join(MODELS_PATH, f'ind_clf{\"_pdon\" if INCLUDE_PDON_SEGM else \"\"}.pth')\n",
    "TEST_CLF = False\n",
    "ANAL_CLF = True\n",
    "set_random_state(SEED)"
   ]
  },
  {
   "cell_type": "markdown",
   "metadata": {},
   "source": [
    "## Dataset/Dataloader Initialization"
   ]
  },
  {
   "cell_type": "code",
   "execution_count": 2,
   "metadata": {},
   "outputs": [
    {
     "name": "stdout",
     "output_type": "stream",
     "text": [
      "[KIDataset] datapoint distribution over 480 points:\n",
      "\t\t\tPD_OFF: 41.67%\n",
      "\t\t\tPD_ON: 40.83%\n",
      "\t\t\tHC: 17.50%\n",
      "[KIDataset] datapoint distribution over 203 points:\n",
      "\t\t\tPD_OFF: 64.04%\n",
      "\t\t\tPD_ON: 12.81%\n",
      "\t\t\tHC: 23.15%\n"
     ]
    }
   ],
   "source": [
    "# Initialize Datasets\n",
    "ds_segm_train = KIDataset(train=True, which='segments', config='ki_auto', ki_data_dirname='KI',\n",
    "                          data_sources=['HC', 'PD_OFF', 'PD_ON'] if INCLUDE_PDON_SEGM else ['HC', 'PD_OFF'])\n",
    "ds_segm_test = KIDataset(train=False, which='segments', config='ki_auto', ki_data_dirname='KI',\n",
    "                         data_sources=['HC', 'PD_OFF', 'PD_ON'])"
   ]
  },
  {
   "cell_type": "code",
   "execution_count": 3,
   "metadata": {},
   "outputs": [
    {
     "data": {
      "text/plain": [
       "(torch.Size([441, 4]), ['position', 'drift', 'position_diff', 'drift_diff'])"
      ]
     },
     "execution_count": 3,
     "metadata": {},
     "output_type": "execute_result"
    }
   ],
   "source": [
    "ds_segm_train[0].x.shape, ds_segm_train.columns"
   ]
  },
  {
   "cell_type": "code",
   "execution_count": 4,
   "metadata": {},
   "outputs": [],
   "source": [
    "class TripletSegmentDataset(Dataset):\n",
    "    def __init__(self, ds: KIDataset, binary_clf: bool = BINARY_CLF):\n",
    "        self.ds = ds\n",
    "        self.binary_clf = binary_clf\n",
    "\n",
    "    def __process_label(self, lab: torch.Tensor) -> torch.Tensor:\n",
    "        if self.binary_clf:\n",
    "            if lab == 2:\n",
    "                lab = torch.tensor(1, dtype=int)\n",
    "            return F.one_hot(lab.type(torch.int64), num_classes=2 if self.binary_clf else 3)\n",
    "\n",
    "    def __getitem__(self, idx: int) -> Tuple[torch.Tensor, torch.Tensor] or Tuple[torch.Tensor, ...]:\n",
    "        anchor = self.ds[idx]\n",
    "        if not self.ds.train:\n",
    "            return anchor.x, self.__process_label(anchor.y)\n",
    "        \n",
    "        # Augmentation: add light random noise\n",
    "        anchor.x += 1e-2 * torch.randn_like(anchor.x)\n",
    "\n",
    "        positive_indices = (self.ds.y == anchor.y).nonzero()\n",
    "        positive_indices = positive_indices[positive_indices != idx][:, None]\n",
    "        negative_indices = (self.ds.y != anchor.y).nonzero()\n",
    "\n",
    "        positive_idx = torch.randperm(positive_indices.numel())[0]\n",
    "        negative_idx = torch.randperm(negative_indices.numel())[0]\n",
    "\n",
    "        positive = self.ds[positive_idx]\n",
    "        negative = self.ds[negative_idx]\n",
    "\n",
    "        return anchor.x, self.__process_label(anchor.y), \\\n",
    "            positive.x, self.__process_label(positive.y), \\\n",
    "            negative.x, self.__process_label(negative.y)\n",
    "\n",
    "    def __len__(self) -> int:\n",
    "        return self.ds.__len__()\n",
    "\n",
    "\n",
    "class TripletDataloader(DataLoader):\n",
    "    def __init__(self, ds: KIDataset, *args, **kwargs):\n",
    "        triplet_ds = TripletSegmentDataset(ds=ds)\n",
    "        super().__init__(dataset=triplet_ds, *args, **kwargs)"
   ]
  },
  {
   "cell_type": "markdown",
   "metadata": {},
   "source": [
    "## InceptionTime Initialization"
   ]
  },
  {
   "cell_type": "code",
   "execution_count": 5,
   "metadata": {},
   "outputs": [],
   "source": [
    "# Initialize Embedder\n",
    "embedder = InceptionTimeModel(bottleneck_channels=0,\n",
    "                              in_channels=4,\n",
    "                              kernel_sizes=65,\n",
    "                              num_blocks=3,\n",
    "                              num_pred_classes=32,\n",
    "                              out_channels=64,\n",
    "                              use_residuals='default')\n",
    "embedder = embedder.to(DEVICE)\n",
    "\n",
    "# Initialize Classifier\n",
    "clf = nn.Sequential(\n",
    "    nn.BatchNorm1d(embedder.out_dim),\n",
    "    nn.Linear(embedder.out_dim, 10),\n",
    "    nn.SELU(inplace=True),\n",
    "    nn.Linear(10, 2),\n",
    ")\n",
    "clf = clf.to(DEVICE)"
   ]
  },
  {
   "cell_type": "markdown",
   "metadata": {},
   "source": [
    "## Training Loop"
   ]
  },
  {
   "cell_type": "code",
   "execution_count": 6,
   "metadata": {},
   "outputs": [],
   "source": [
    "# Dataloader\n",
    "dl_segm_train = TripletDataloader(ds_segm_train, batch_size=128, shuffle=True, pin_memory=True)\n",
    "dl_segm_test = TripletDataloader(ds_segm_test, batch_size=128, shuffle=False, pin_memory=True)\n",
    "\n",
    "# Optimizers\n",
    "segm_optim = torch.optim.AdamW(embedder.parameters(), lr=1e-3, weight_decay=1e-2)\n",
    "segm_optim.add_param_group({\n",
    "    'params': clf.parameters(),\n",
    "    'lr': 1e-4,\n",
    "    'weight_decay': 1e-2\n",
    "})\n",
    "segm_optim_sched = torch.optim.lr_scheduler.SequentialLR(\n",
    "    segm_optim,\n",
    "    schedulers=[\n",
    "        torch.optim.lr_scheduler.LinearLR(segm_optim, total_iters=N_EPOCHS // 20),\n",
    "        torch.optim.lr_scheduler.CosineAnnealingLR(segm_optim, T_max=N_EPOCHS - N_EPOCHS // 20),\n",
    "    ],\n",
    "    milestones=[N_EPOCHS // 20]\n",
    ")\n",
    "\n",
    "# Criteria\n",
    "bce_crit = nn.BCEWithLogitsLoss()\n",
    "triplet_crit = nn.TripletMarginLoss(margin=1.0, p=2, swap=True)"
   ]
  },
  {
   "cell_type": "code",
   "execution_count": 7,
   "metadata": {},
   "outputs": [],
   "source": [
    "if not os.path.exists(EMBEDDER_CHKPT_FPATH):\n",
    "    # es = EarlyStopper(patience=10, max_delta_acc=0.05, model=clf, ckpt_path=CHKPT_FPATH)\n",
    "    pbar = tqdm(range(N_EPOCHS), desc=f'Training InceptionTime')\n",
    "    lt, lv, at, av = [], [], [], []\n",
    "    for epoch in pbar:\n",
    "        # Train\n",
    "        accs_train, losses_train = [], []\n",
    "        for ax, ay, px, py, nx, ny in dl_segm_train:\n",
    "            ax = ax.to(DEVICE)\n",
    "            ay = ay.to(DEVICE)\n",
    "            px = px.to(DEVICE)\n",
    "            py = py.to(DEVICE)\n",
    "            nx = nx.to(DEVICE)\n",
    "            ny = ny.to(DEVICE)\n",
    "\n",
    "            segm_optim.zero_grad()\n",
    "\n",
    "            # Get embeddings\n",
    "            ax_feat = embedder(ax.swapaxes(1,2))\n",
    "            px_feat = embedder(px.swapaxes(1,2))\n",
    "            nx_feat = embedder(nx.swapaxes(1,2))\n",
    "\n",
    "            # Get class predictions\n",
    "            ay_hat = clf(ax_feat)\n",
    "            py_hat = clf(px_feat)\n",
    "            ny_hat = clf(nx_feat)\n",
    "\n",
    "            # Compute losses\n",
    "            bce_loss = bce_crit(ay_hat, ay.float()) + bce_crit(py_hat, py.float()) + bce_crit(ny_hat, ny.float())\n",
    "            triplet_loss = triplet_crit(ax_feat, px_feat, nx_feat) + 0.1 * triplet_crit(ay_hat, py_hat, ny_hat)\n",
    "            total_loss = bce_loss + triplet_loss\n",
    "\n",
    "            # Update models\n",
    "            total_loss.backward()\n",
    "            segm_optim.step()\n",
    "            losses_train.append(total_loss.item())\n",
    "            accs_train.append(accuracy_score(ay_hat.detach().cpu().argmax(axis=1), ay.detach().cpu().argmax(axis=1)))\n",
    "\n",
    "        acc_train_mean = np.mean(accs_train)\n",
    "        loss_train_mean = np.mean(losses_train)\n",
    "        segm_optim_sched.step()\n",
    "\n",
    "        # Eval\n",
    "        accs_val, losses_val = [], []\n",
    "        with torch.no_grad():\n",
    "            embedder.eval()\n",
    "            clf.eval()\n",
    "            for x, y in dl_segm_test:\n",
    "                x = x.to(DEVICE)\n",
    "                y = y.to(DEVICE)\n",
    "                y_hat = clf(embedder(x.swapaxes(1,2)))\n",
    "                losses_val.append(bce_crit(y_hat, y.float()).detach().item())\n",
    "                accs_val.append(accuracy_score(y_hat.cpu().argmax(axis=1), y.cpu().argmax(axis=1)))\n",
    "            clf.train()\n",
    "            embedder.train()\n",
    "        acc_val_mean = np.mean(accs_val)\n",
    "        loss_val_mean = np.mean(losses_val)\n",
    "\n",
    "        pbar.set_description(f'[e|{epoch}][l|t:{loss_train_mean:.2f}, v:{loss_val_mean:.2f}]'\n",
    "                             f'[acc|t:{acc_train_mean * 100:.2f}, v:{acc_val_mean * 100:.2f}]')\n",
    "\n",
    "        at.append(acc_train_mean)\n",
    "        av.append(acc_val_mean)\n",
    "        lt.append(loss_train_mean)\n",
    "        lv.append(loss_val_mean)\n",
    "        # if es.early_stop(acc_val_mean):\n",
    "        #     break\n",
    "        # es.revert_chkpt()\n",
    "    torch.save(embedder, EMBEDDER_CHKPT_FPATH)\n",
    "    torch.save(clf, CLF_CHKPT_FPATH)\n",
    "\n",
    "    # Plots\n",
    "    plt.plot(lt, label='loss train')\n",
    "    plt.plot(lv, label='loss test')\n",
    "    plt.legend()\n",
    "    plt.show()\n",
    "    plt.plot(at, label='acc train')\n",
    "    plt.plot(av, label='acc test')\n",
    "    plt.legend()\n",
    "    plt.show()\n",
    "else:\n",
    "#     embedder = torch.load(EMBEDDER_CHKPT_FPATH).to(DEVICE).eval()\n",
    "    ..."
   ]
  },
  {
   "cell_type": "code",
   "execution_count": null,
   "metadata": {},
   "outputs": [],
   "source": []
  },
  {
   "cell_type": "markdown",
   "metadata": {},
   "source": [
    "# Individual Classification"
   ]
  },
  {
   "cell_type": "markdown",
   "metadata": {},
   "source": [
    "## Datasets Initialization"
   ]
  },
  {
   "cell_type": "code",
   "execution_count": 8,
   "metadata": {},
   "outputs": [
    {
     "name": "stdout",
     "output_type": "stream",
     "text": [
      "[KIDataset] datapoint distribution over 44 points:\n",
      "\t\t\tPD_OFF: 43.18%\n",
      "\t\t\tPD_ON: 40.91%\n",
      "\t\t\tHC: 15.91%\n",
      "[KIDataset] datapoint distribution over 19 points:\n",
      "\t\t\tPD_OFF: 63.16%\n",
      "\t\t\tPD_ON: 15.79%\n",
      "\t\t\tHC: 21.05%\n"
     ]
    }
   ],
   "source": [
    "class IndividualTrialDataset(Dataset):\n",
    "    def __init__(self, ds: KIDataset, binary_clf: bool = True):\n",
    "        self.ds = ds\n",
    "        self.binary_clf = binary_clf\n",
    "\n",
    "    def __process_label(self, lab: torch.Tensor) -> torch.Tensor:\n",
    "        if self.binary_clf:\n",
    "            if lab == 2:\n",
    "                lab = torch.tensor(1, dtype=int)\n",
    "            return F.one_hot(lab.type(torch.int64), num_classes=2 if self.binary_clf else 3)\n",
    "\n",
    "    def __getitem__(self, idx: int) -> Tuple[torch.Tensor, torch.Tensor]:\n",
    "        try:\n",
    "            trial_data = self.ds[idx]\n",
    "            return torch.stack([s.x for s in trial_data.x.usable_segments]), self.__process_label(trial_data.y)\n",
    "        except RuntimeError:\n",
    "            return self.__getitem__((idx+1) % len(self))\n",
    "\n",
    "    def __len__(self) -> int:\n",
    "        return self.ds.__len__()\n",
    "\n",
    "\n",
    "# Initialize Datasets\n",
    "ds_trial_train = KIDataset(train=True, which='trials', config='ki_auto', ki_data_dirname='KI',\n",
    "                          data_sources=['HC', 'PD_OFF', 'PD_ON'] if INCLUDE_PDON_TF else ['HC', 'PD_OFF'])\n",
    "ds_trial_test = KIDataset(train=False, which='trials', config='ki_auto', ki_data_dirname='KI',\n",
    "                         data_sources=['HC', 'PD_OFF', 'PD_ON'])"
   ]
  },
  {
   "cell_type": "markdown",
   "metadata": {},
   "source": [
    "## Models Initialization"
   ]
  },
  {
   "cell_type": "code",
   "execution_count": 9,
   "metadata": {},
   "outputs": [],
   "source": [
    "# Freeze Embedder\n",
    "embedder_re = nn.Sequential(\n",
    "    Rearrange('b n l d -> (b n) d l'),\n",
    "    embedder,\n",
    ").to(DEVICE).eval()\n",
    "for p in embedder.parameters():\n",
    "    p.requires_grad = False\n",
    "\n",
    "# Weight Initializer\n",
    "def init_weights(module:nn.Module):\n",
    "    if isinstance(module, nn.Embedding):\n",
    "        module.weight.data.normal_(mean=0.0, std=1.0)\n",
    "        if module.padding_idx is not None:\n",
    "            module.weight.data[module.padding_idx].zero_()\n",
    "    elif isinstance(module, nn.LayerNorm):\n",
    "        module.bias.data.zero_()\n",
    "        module.weight.data.fill_(1.0)\n",
    "    elif isinstance(module, nn.Linear):\n",
    "        module.bias.data.zero_()\n",
    "        module.weight.data.normal_(mean=0.0, std=0.1)\n",
    "\n",
    "    \n",
    "# Initialize Transformer (Classifier)\n",
    "ind_clf = IndividualClassifier(in_features=32, d_model=128, nhead=4, num_layers=2, dim_feedforward=256,\n",
    "                           batch_first=True, dropout=0.3, n_classes=2 if BINARY_CLF else 3)\n",
    "ind_clf.apply(init_weights)\n",
    "ind_clf = ind_clf.to(DEVICE)"
   ]
  },
  {
   "cell_type": "markdown",
   "metadata": {},
   "source": [
    "## Training Loop"
   ]
  },
  {
   "cell_type": "code",
   "execution_count": 10,
   "metadata": {},
   "outputs": [],
   "source": [
    "# Dataloaders\n",
    "dl_trial_train = DataLoader(IndividualTrialDataset(ds_trial_train), batch_size=16, shuffle=True, pin_memory=True,\n",
    "                            drop_last=True, collate_fn=PadCollate(dim=0))\n",
    "dl_trial_test = DataLoader(IndividualTrialDataset(ds_trial_test), batch_size=16, shuffle=False, pin_memory=True,\n",
    "                            collate_fn=PadCollate(dim=0))\n",
    "\n",
    "# Optimizers\n",
    "trial_optim = torch.optim.AdamW(ind_clf.parameters(), lr=1e-5, weight_decay=1e-1)\n",
    "# segm_optim_sched = torch.optim.lr_scheduler.CosineAnnealingLR(trial_optim, T_max=N_EPOCHS_CLF)\n",
    "trial_optim_sched = torch.optim.lr_scheduler.SequentialLR(\n",
    "    trial_optim,\n",
    "    schedulers=[\n",
    "        torch.optim.lr_scheduler.LinearLR(trial_optim, total_iters=N_EPOCHS_CLF // 20),\n",
    "        torch.optim.lr_scheduler.CosineAnnealingLR(trial_optim, T_max=N_EPOCHS_CLF - N_EPOCHS_CLF // 20),\n",
    "    ],\n",
    "    milestones=[N_EPOCHS_CLF // 20]\n",
    ")\n",
    "\n",
    "# Criteria\n",
    "bce_crit = nn.BCEWithLogitsLoss()"
   ]
  },
  {
   "cell_type": "code",
   "execution_count": 11,
   "metadata": {},
   "outputs": [
    {
     "name": "stderr",
     "output_type": "stream",
     "text": [
      "Training Transformer:   0%|          | 0/100 [00:00<?, ?it/s]/home/achariso/anaconda3/envs/torch3d/lib/python3.9/site-packages/torch/nn/modules/conv.py:309: UserWarning: Using padding='same' with even kernel lengths and odd dilation may require a zero-padded copy of the input be created (Triggered internally at /opt/conda/conda-bld/pytorch_1666643016022/work/aten/src/ATen/native/Convolution.cpp:895.)\n",
      "  return F.conv1d(input, weight, bias, self.stride,\n",
      "Training Transformer [e|3][l|t:0.72, v:0.95][acc|t:59.38, v:84.38]:   4%|▍         | 4/100 [00:03<01:04,  1.49it/s]/home/achariso/anaconda3/envs/torch3d/lib/python3.9/site-packages/torch/optim/lr_scheduler.py:163: UserWarning: The epoch parameter in `scheduler.step()` was not necessary and is being deprecated where possible. Please use `scheduler.step()` to step the scheduler. During the deprecation, if epoch is different from None, the closed form is used instead of the new chainable form, where available. Please open an issue if you are unable to replicate your use case: https://github.com/pytorch/pytorch/issues/new/choose.\n",
      "  warnings.warn(EPOCH_DEPRECATION_WARNING, UserWarning)\n",
      "Training Transformer [e|99][l|t:0.49, v:0.40][acc|t:84.38, v:87.50]: 100%|██████████| 100/100 [00:12<00:00,  8.07it/s]\n"
     ]
    },
    {
     "data": {
      "image/png": "[encoded data removed]",
      "text/plain": [
       "<Figure size 640x480 with 1 Axes>"
      ]
     },
     "metadata": {},
     "output_type": "display_data"
    },
    {
     "data": {
      "image/png": "[encoded data removed]",
      "text/plain": [
       "<Figure size 640x480 with 1 Axes>"
      ]
     },
     "metadata": {},
     "output_type": "display_data"
    }
   ],
   "source": [
    "pbar = tqdm(range(N_EPOCHS_CLF), desc=f'Training Transformer')\n",
    "lt, lv, at, av = [], [], [], []\n",
    "for epoch in pbar:\n",
    "    # Train\n",
    "    accs_train, losses_train = [], []\n",
    "    for tx, ty in dl_trial_train:\n",
    "        tx = tx.to(DEVICE)\n",
    "        ty = ty.to(DEVICE)\n",
    "\n",
    "        trial_optim.zero_grad()\n",
    "\n",
    "        # Get embeddings\n",
    "        with torch.no_grad():\n",
    "            tx_feat = rearrange(embedder_re(tx), '(b n) d -> b n d', b=tx.shape[0])\n",
    "\n",
    "        # Get class predictions\n",
    "        ty_hat = ind_clf(tx_feat)\n",
    "\n",
    "        # Compute losses\n",
    "        bce_loss = bce_crit(ty_hat, ty.float())\n",
    "\n",
    "        # Update model\n",
    "        bce_loss.backward()\n",
    "        trial_optim.step()\n",
    "        losses_train.append(bce_loss.item())\n",
    "        accs_train.append(accuracy_score(ty_hat.detach().cpu().argmax(axis=1), ty.detach().cpu().argmax(axis=1)))\n",
    "    \n",
    "    acc_train_mean = np.mean(accs_train)\n",
    "    loss_train_mean = np.mean(losses_train)\n",
    "    trial_optim_sched.step()\n",
    "\n",
    "    # Eval\n",
    "    accs_val, losses_val = [], []\n",
    "    with torch.no_grad():\n",
    "        ind_clf.eval()\n",
    "        for x, y in dl_trial_test:\n",
    "            x = x.to(DEVICE)\n",
    "            y = y.to(DEVICE)\n",
    "            y_hat = ind_clf(rearrange(embedder_re(x), '(b n) d -> b n d', b=x.shape[0]))\n",
    "            losses_val.append(bce_crit(y_hat, y.float()).detach().item())\n",
    "            accs_val.append(accuracy_score(y_hat.cpu().argmax(axis=1), y.cpu().argmax(axis=1)))\n",
    "        ind_clf.train()\n",
    "    acc_val_mean = np.mean(accs_val)\n",
    "    loss_val_mean = np.mean(losses_val)\n",
    "\n",
    "    pbar.set_description(f'Training Transformer [e|{epoch}][l|t:{loss_train_mean:.2f}, v:{loss_val_mean:.2f}]'\n",
    "                         f'[acc|t:{acc_train_mean * 100:.2f}, v:{acc_val_mean * 100:.2f}]')\n",
    "\n",
    "    at.append(acc_train_mean)\n",
    "    av.append(acc_val_mean)\n",
    "    lt.append(loss_train_mean)\n",
    "    lv.append(loss_val_mean)\n",
    "    # if es.early_stop(acc_val_mean):\n",
    "    #     break\n",
    "    # es.revert_chkpt()\n",
    "torch.save(ind_clf, IND_CLF_CHKPT_FPATH)\n",
    "\n",
    "# Plots\n",
    "plt.plot(lt, label='loss train')\n",
    "plt.plot(lv, label='loss test')\n",
    "plt.legend()\n",
    "plt.show()\n",
    "plt.plot(at, label='acc train')\n",
    "plt.plot(av, label='acc test')\n",
    "plt.legend()\n",
    "plt.show()"
   ]
  },
  {
   "cell_type": "code",
   "execution_count": null,
   "metadata": {},
   "outputs": [],
   "source": []
  }
 ],
 "metadata": {
  "kernelspec": {
   "display_name": "Python 3 (ipykernel)",
   "language": "python",
   "name": "python3"
  },
  "language_info": {
   "codemirror_mode": {
    "name": "ipython",
    "version": 3
   },
   "file_extension": ".py",
   "mimetype": "text/x-python",
   "name": "python",
   "nbconvert_exporter": "python",
   "pygments_lexer": "ipython3",
   "version": "3.9.16"
  }
 },
 "nbformat": 4,
 "nbformat_minor": 1
}
