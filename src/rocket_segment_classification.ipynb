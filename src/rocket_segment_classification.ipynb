{
 "cells": [
  {
   "cell_type": "code",
   "execution_count": 1,
   "metadata": {
    "collapsed": true,
    "pycharm": {
     "name": "#%%\n"
    }
   },
   "outputs": [],
   "source": [
    "from matplotlib import pyplot as plt\n",
    "from sklearn.linear_model import RidgeClassifier\n",
    "from sklearn.metrics import confusion_matrix, classification_report, ConfusionMatrixDisplay\n",
    "from torch.utils.data import DataLoader\n",
    "from torchsampler import ImbalancedDatasetSampler\n",
    "from yaml import load as load_yaml, FullLoader\n",
    "\n",
    "from dataset import KIDataset\n",
    "from models.rocket import ROCKET\n",
    "from processor.processor import Leif\n",
    "from utils.const import SEED\n",
    "from utils.data import binarize\n",
    "from utils.misc import set_random_state\n",
    "from utils.path import config_path\n",
    "\n",
    "set_random_state(SEED)\n",
    "!conda activate eyetrackpdc\n",
    "\n",
    "# Data parameters\n",
    "BINARY_CLF = True\n",
    "\n",
    "# Rocket parameters\n",
    "NUM_KERNELS = 1000\n",
    "NORMALIZE = True\n",
    "\n",
    "# Classifier parameters\n",
    "REG_FACTOR = 1e5"
   ]
  },
  {
   "cell_type": "markdown",
   "metadata": {
    "collapsed": false,
    "pycharm": {
     "name": "#%% md\n"
    }
   },
   "source": [
    "## Initialize Datasets and Dataloaders"
   ]
  },
  {
   "cell_type": "code",
   "execution_count": 2,
   "metadata": {
    "collapsed": false,
    "pycharm": {
     "name": "#%%\n"
    }
   },
   "outputs": [
    {
     "data": {
      "text/plain": "loading files: 0files [00:00, ?files/s]",
      "application/vnd.jupyter.widget-view+json": {
       "version_major": 2,
       "version_minor": 0,
       "model_id": "101b804a4e494c5189af5e1f41d100cc"
      }
     },
     "metadata": {},
     "output_type": "display_data"
    },
    {
     "name": "stdout",
     "output_type": "stream",
     "text": [
      "skipped 1 files (position max value outlier)\n",
      "skipped 5 files (position snr outlier)\n",
      "skipped 41 files (position mean velocity outlier)\n",
      "skipped 1 files (drift max value outlier)\n",
      "skipped 3 files (drift snr outlier)\n",
      "skipped 1 files (drift mean velocity outlier)\n",
      "skipped 2 files (no target movement)\n"
     ]
    },
    {
     "name": "stderr",
     "output_type": "stream",
     "text": [
      "segmenting time series: 100%|██████████| 156/156 [00:09<00:00, 16.09ts/s]\n"
     ]
    },
    {
     "data": {
      "text/plain": "loading files: 0files [00:00, ?files/s]",
      "application/vnd.jupyter.widget-view+json": {
       "version_major": 2,
       "version_minor": 0,
       "model_id": "b32d056a5e1942fa93c13cb4136cdbbe"
      }
     },
     "metadata": {},
     "output_type": "display_data"
    },
    {
     "name": "stderr",
     "output_type": "stream",
     "text": [
      "segmenting time series: 100%|██████████| 89/89 [00:05<00:00, 16.09ts/s]\n"
     ]
    }
   ],
   "source": [
    "with open(f'{config_path}/leif.yaml', 'r') as reader:\n",
    "    config = load_yaml(reader, Loader=FullLoader)\n",
    "\n",
    "processor = Leif(config)\n",
    "# Initialize Datasets\n",
    "train_ds = KIDataset(data_processor=processor, train=True)\n",
    "test_ds = KIDataset(data_processor=processor, train=False)\n",
    "if BINARY_CLF:\n",
    "    binarize(train_ds)\n",
    "    binarize(test_ds)\n",
    "\n",
    "# Initialize Dataloaders\n",
    "train_dl = DataLoader(train_ds,\n",
    "                      batch_size=train_ds.x.shape[0],\n",
    "                      sampler=ImbalancedDatasetSampler(train_ds, callback_get_label=lambda item: item.y))\n",
    "test_dl = DataLoader(test_ds, batch_size=test_ds.x.shape[0])"
   ]
  },
  {
   "cell_type": "markdown",
   "metadata": {
    "collapsed": false,
    "pycharm": {
     "name": "#%% md\n"
    }
   },
   "source": [
    "## Initialize Rocket and classifier"
   ]
  },
  {
   "cell_type": "code",
   "execution_count": 6,
   "metadata": {
    "collapsed": false,
    "pycharm": {
     "name": "#%%\n"
    }
   },
   "outputs": [],
   "source": [
    "# Initialize Rocket\n",
    "rocket = ROCKET(c_in=train_ds.x.shape[1],\n",
    "                seq_len=train_ds.x.shape[2],\n",
    "                n_kernels=NUM_KERNELS,\n",
    "                normalize=NORMALIZE)\n",
    "\n",
    "# Initialize Classifier\n",
    "clf = RidgeClassifier(alpha=REG_FACTOR, random_state=SEED)"
   ]
  },
  {
   "cell_type": "markdown",
   "metadata": {
    "collapsed": false,
    "pycharm": {
     "name": "#%% md\n"
    }
   },
   "source": [
    "## Fit Model"
   ]
  },
  {
   "cell_type": "code",
   "execution_count": 4,
   "metadata": {
    "collapsed": false,
    "pycharm": {
     "name": "#%%\n"
    }
   },
   "outputs": [
    {
     "data": {
      "text/plain": "RidgeClassifier(alpha=100000.0, random_state=42)"
     },
     "execution_count": 4,
     "metadata": {},
     "output_type": "execute_result"
    }
   ],
   "source": [
    "# Batch is entire dataset\n",
    "train_batch = next(iter(train_dl))\n",
    "\n",
    "# Perform ROCKET transformation stage\n",
    "features = rocket(train_batch.x)\n",
    "\n",
    "# Fit Classifier\n",
    "clf.fit(features, train_batch.y.numpy())"
   ]
  },
  {
   "cell_type": "markdown",
   "metadata": {
    "collapsed": false,
    "pycharm": {
     "name": "#%% md\n"
    }
   },
   "source": [
    "## Evaluate on segment classification"
   ]
  },
  {
   "cell_type": "code",
   "execution_count": 5,
   "metadata": {
    "collapsed": false,
    "pycharm": {
     "name": "#%%\n"
    }
   },
   "outputs": [
    {
     "name": "stdout",
     "output_type": "stream",
     "text": [
      "Segment classification on test set:\n",
      "              precision    recall  f1-score   support\n",
      "\n",
      "          HC       0.37      0.61      0.46       297\n",
      "          PD       0.76      0.55      0.64       682\n",
      "\n",
      "    accuracy                           0.56       979\n",
      "   macro avg       0.56      0.58      0.55       979\n",
      "weighted avg       0.64      0.56      0.58       979\n",
      "\n"
     ]
    },
    {
     "data": {
      "text/plain": "<Figure size 640x480 with 2 Axes>",
      "image/png": "[encoded data removed]"
     },
     "metadata": {},
     "output_type": "display_data"
    }
   ],
   "source": [
    "labels = ['HC', 'PD']\n",
    "test_batch = next(iter(test_dl))\n",
    "\n",
    "# Perform ROCKET transformation stage\n",
    "test_features = rocket(test_batch.x)\n",
    "\n",
    "# Make predictions on test set\n",
    "pred = clf.predict(test_features)\n",
    "\n",
    "# The RidgeClassifier maps the targets to {-1, 1}, but our labels are {0, 1}\n",
    "pred[pred < 0] = 0\n",
    "\n",
    "# Compute metrics\n",
    "report = classification_report(test_batch.y.numpy(), pred, target_names=labels)\n",
    "\n",
    "# Construct the confusion matrix\n",
    "cf_matrix = confusion_matrix(test_batch.y, pred)\n",
    "\n",
    "# Plot metrics and display confusion matrix\n",
    "print(f'Segment classification on test set:\\n{report}')\n",
    "figure = ConfusionMatrixDisplay(cf_matrix, display_labels=labels).plot(cmap='copper')\n",
    "figure.ax_.set_title('segment classification')\n",
    "plt.show()"
   ]
  }
 ],
 "metadata": {
  "kernelspec": {
   "display_name": "eyetrackpdc",
   "language": "python",
   "name": "python3"
  },
  "language_info": {
   "codemirror_mode": {
    "name": "ipython",
    "version": 3
   },
   "file_extension": ".py",
   "mimetype": "text/x-python",
   "name": "python",
   "nbconvert_exporter": "python",
   "pygments_lexer": "ipython3",
   "version": "3.10.9"
  },
  "vscode": {
   "interpreter": {
    "hash": "2dc672c21a9d49d41798d64eab36069eb53c1b78e80bf8cffffc318405fb4d08"
   }
  }
 },
 "nbformat": 4,
 "nbformat_minor": 0
}