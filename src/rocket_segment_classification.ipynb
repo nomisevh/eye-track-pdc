{
 "cells": [
  {
   "cell_type": "code",
   "execution_count": 1,
   "metadata": {
    "collapsed": true,
    "pycharm": {
     "name": "#%%\n"
    }
   },
   "outputs": [],
   "source": [
    "from matplotlib import pyplot as plt\n",
    "from sklearn.linear_model import RidgeClassifier\n",
    "from sklearn.metrics import confusion_matrix, classification_report, ConfusionMatrixDisplay\n",
    "from torch.utils.data import DataLoader\n",
    "from torchsampler import ImbalancedDatasetSampler\n",
    "\n",
    "from dataset.ki import KIDataset\n",
    "from models.rocket import ROCKET\n",
    "from utils.const import SEED\n",
    "from utils.data import binarize\n",
    "from utils.misc import set_random_state\n",
    "\n",
    "set_random_state(SEED)\n",
    "!conda activate eyetrackpdc\n",
    "\n",
    "# Data parameters\n",
    "BINARY_CLF = True\n",
    "\n",
    "# Rocket parameters\n",
    "NUM_KERNELS = 1000\n",
    "NORMALIZE = True\n",
    "\n",
    "# Classifier parameters\n",
    "REG_FACTOR = 1e5"
   ]
  },
  {
   "cell_type": "markdown",
   "source": [
    "## Initialize Datasets and Dataloaders"
   ],
   "metadata": {
    "collapsed": false,
    "pycharm": {
     "name": "#%% md\n"
    }
   }
  },
  {
   "cell_type": "code",
   "execution_count": 2,
   "outputs": [
    {
     "name": "stdout",
     "output_type": "stream",
     "text": [
      "[KIDataset] datapoint distribution over 2160 points:\n",
      "\t\t\tPD_OFF: 36.99%\n",
      "\t\t\tPD_ON: 38.98%\n",
      "\t\t\tHC: 24.03%\n",
      "[KIDataset] datapoint distribution over 940 points:\n",
      "\t\t\tPD_OFF: 40.85%\n",
      "\t\t\tPD_ON: 27.45%\n",
      "\t\t\tHC: 31.70%\n"
     ]
    }
   ],
   "source": [
    "# Initialize Datasets\n",
    "train_ds = KIDataset(train=True, which='segments', config='ki_auto', ki_data_dirname='ki',\n",
    "                     data_sources=['HC', 'PD_OFF', 'PD_ON'])\n",
    "test_ds = KIDataset(train=False, which='segments', config='ki_auto', ki_data_dirname='ki',\n",
    "                    data_sources=['HC', 'PD_OFF', 'PD_ON'])\n",
    "if BINARY_CLF:\n",
    "    binarize(train_ds)\n",
    "    binarize(test_ds)\n",
    "\n",
    "# Revert dimensions. TODO this should not be needed\n",
    "train_ds.x = train_ds.x.permute(0, 2, 1)\n",
    "test_ds.x = test_ds.x.permute(0, 2, 1)\n",
    "\n",
    "# Initialize Dataloaders\n",
    "train_dl = DataLoader(train_ds,\n",
    "                      batch_size=train_ds.x.shape[0],\n",
    "                      sampler=ImbalancedDatasetSampler(train_ds, callback_get_label=lambda item: item.y))\n",
    "test_dl = DataLoader(test_ds, batch_size=test_ds.x.shape[0])"
   ],
   "metadata": {
    "collapsed": false,
    "pycharm": {
     "name": "#%%\n"
    }
   }
  },
  {
   "cell_type": "markdown",
   "source": [
    "## Initialize Rocket and classifier"
   ],
   "metadata": {
    "collapsed": false,
    "pycharm": {
     "name": "#%% md\n"
    }
   }
  },
  {
   "cell_type": "code",
   "execution_count": 3,
   "outputs": [],
   "source": [
    "# Initialize Rocket\n",
    "rocket = ROCKET(c_in=train_ds.x.shape[1],\n",
    "                seq_len=train_ds.x.shape[2],\n",
    "                n_kernels=NUM_KERNELS,\n",
    "                normalize=NORMALIZE)\n",
    "\n",
    "# Initialize Classifier\n",
    "clf = RidgeClassifier(alpha=REG_FACTOR, random_state=SEED)"
   ],
   "metadata": {
    "collapsed": false,
    "pycharm": {
     "name": "#%%\n"
    }
   }
  },
  {
   "cell_type": "markdown",
   "source": [
    "## Fit Model"
   ],
   "metadata": {
    "collapsed": false,
    "pycharm": {
     "name": "#%% md\n"
    }
   }
  },
  {
   "cell_type": "code",
   "execution_count": 4,
   "outputs": [
    {
     "data": {
      "text/plain": "RidgeClassifier(alpha=100000.0, random_state=42)"
     },
     "execution_count": 4,
     "metadata": {},
     "output_type": "execute_result"
    }
   ],
   "source": [
    "# Batch is entire dataset\n",
    "train_batch = next(iter(train_dl))\n",
    "\n",
    "# Perform ROCKET transformation stage\n",
    "features = rocket(train_batch.x)\n",
    "\n",
    "# Fit Classifier\n",
    "clf.fit(features, train_batch.y)"
   ],
   "metadata": {
    "collapsed": false,
    "pycharm": {
     "name": "#%%\n"
    }
   }
  },
  {
   "cell_type": "markdown",
   "source": [
    "## Evaluate on segment classification"
   ],
   "metadata": {
    "collapsed": false,
    "pycharm": {
     "name": "#%% md\n"
    }
   }
  },
  {
   "cell_type": "code",
   "execution_count": 5,
   "outputs": [
    {
     "name": "stdout",
     "output_type": "stream",
     "text": [
      "Segment classification on test set:\n",
      "              precision    recall  f1-score   support\n",
      "\n",
      "          HC       0.29      0.46      0.35       298\n",
      "          PD       0.65      0.47      0.54       642\n",
      "\n",
      "    accuracy                           0.47       940\n",
      "   macro avg       0.47      0.47      0.45       940\n",
      "weighted avg       0.54      0.47      0.48       940\n",
      "\n"
     ]
    },
    {
     "data": {
      "text/plain": "<Figure size 640x480 with 2 Axes>",
      "image/png": "[encoded data removed]"
     },
     "metadata": {},
     "output_type": "display_data"
    }
   ],
   "source": [
    "labels = ['HC', 'PD']\n",
    "test_batch = next(iter(test_dl))\n",
    "\n",
    "# Perform ROCKET transformation stage\n",
    "test_features = rocket(test_batch.x)\n",
    "\n",
    "# Make predictions on test set\n",
    "pred = clf.predict(test_features)\n",
    "\n",
    "# The RidgeClassifier maps the targets to {-1, 1}, but our labels are {0, 1}\n",
    "pred[pred < 0] = 0\n",
    "\n",
    "# Compute metrics\n",
    "report = classification_report(test_batch.y.numpy(), pred, target_names=labels)\n",
    "\n",
    "# Construct the confusion matrix\n",
    "cf_matrix = confusion_matrix(test_batch.y, pred)\n",
    "\n",
    "# Plot metrics and display confusion matrix\n",
    "print(f'Segment classification on test set:\\n{report}')\n",
    "figure = ConfusionMatrixDisplay(cf_matrix, display_labels=labels).plot(cmap='copper')\n",
    "figure.ax_.set_title('segment classification')\n",
    "plt.show()"
   ],
   "metadata": {
    "collapsed": false,
    "pycharm": {
     "name": "#%%\n"
    }
   }
  },
  {
   "cell_type": "code",
   "execution_count": null,
   "outputs": [],
   "source": [],
   "metadata": {
    "collapsed": false,
    "pycharm": {
     "name": "#%%\n"
    }
   }
  }
 ],
 "metadata": {
  "kernelspec": {
   "display_name": "Python 3",
   "language": "python",
   "name": "python3"
  },
  "language_info": {
   "codemirror_mode": {
    "name": "ipython",
    "version": 2
   },
   "file_extension": ".py",
   "mimetype": "text/x-python",
   "name": "python",
   "nbconvert_exporter": "python",
   "pygments_lexer": "ipython2",
   "version": "2.7.6"
  }
 },
 "nbformat": 4,
 "nbformat_minor": 0
}