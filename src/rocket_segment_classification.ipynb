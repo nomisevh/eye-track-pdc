{
 "cells": [
  {
   "cell_type": "code",
   "execution_count": 1,
   "metadata": {
    "collapsed": true,
    "pycharm": {
     "name": "#%%\n"
    }
   },
   "outputs": [],
   "source": [
    "from matplotlib import pyplot as plt\n",
    "from sklearn.linear_model import RidgeClassifier\n",
    "from sklearn.metrics import confusion_matrix, classification_report, ConfusionMatrixDisplay\n",
    "from torch.utils.data import DataLoader\n",
    "from torchsampler import ImbalancedDatasetSampler\n",
    "from yaml import load as load_yaml, FullLoader\n",
    "\n",
    "from dataset import KIDataset, train_test_split_stratified\n",
    "from models.rocket import ROCKET\n",
    "from processor.processor import Leif\n",
    "from utils.const import SEED\n",
    "from utils.data import binarize\n",
    "from utils.misc import set_random_state\n",
    "from utils.path import config_path\n",
    "\n",
    "set_random_state(SEED)\n",
    "!conda activate eyetrackpdc\n",
    "\n",
    "# Data parameters\n",
    "BINARY_CLF = True\n",
    "\n",
    "# Rocket parameters\n",
    "NUM_KERNELS = 1000\n",
    "NORMALIZE = True\n",
    "\n",
    "# Classifier parameters\n",
    "REG_FACTOR = 1e5"
   ]
  },
  {
   "cell_type": "markdown",
   "metadata": {
    "collapsed": false,
    "pycharm": {
     "name": "#%% md\n"
    }
   },
   "source": [
    "## Initialize Datasets and Dataloaders"
   ]
  },
  {
   "cell_type": "code",
   "execution_count": 2,
   "metadata": {
    "collapsed": false,
    "pycharm": {
     "name": "#%%\n"
    }
   },
   "outputs": [
    {
     "name": "stdout",
     "output_type": "stream",
     "text": [
      "loaded dataset from C:\\Users\\hejpa\\Documents\\GitHub\\eye-track-pdc\\data\\ki\\tmp\\ki-dataset-seg-train\n",
      "loaded dataset from C:\\Users\\hejpa\\Documents\\GitHub\\eye-track-pdc\\data\\ki\\tmp\\ki-dataset-seg-test\n"
     ]
    }
   ],
   "source": [
    "with open(f'{config_path}/leif.yaml', 'r') as reader:\n",
    "    config = load_yaml(reader, Loader=FullLoader)\n",
    "\n",
    "# Configure processor\n",
    "processor = Leif(config)\n",
    "\n",
    "# Initialize Datasets\n",
    "train_val_ds = KIDataset(data_processor=processor, train=True)\n",
    "train_ds, val_ds = train_test_split_stratified(train_val_ds, test_size=0.2)\n",
    "test_ds = KIDataset(data_processor=processor, train=False)\n",
    "\n",
    "# Binarize dataset after split to make sure split is stratified w.r.t all three classes\n",
    "if BINARY_CLF:\n",
    "    for ds in [train_ds, val_ds, test_ds]:\n",
    "        binarize(ds)\n",
    "\n",
    "# Initialize Dataloaders\n",
    "train_dl = DataLoader(train_ds,\n",
    "                      batch_size=train_ds.x.shape[0],\n",
    "                      sampler=ImbalancedDatasetSampler(train_ds, callback_get_label=lambda item: item.y))\n",
    "val_dl = DataLoader(val_ds, batch_size=val_ds.x.shape[0])\n",
    "test_dl = DataLoader(test_ds, batch_size=test_ds.x.shape[0])"
   ]
  },
  {
   "cell_type": "markdown",
   "metadata": {
    "collapsed": false,
    "pycharm": {
     "name": "#%% md\n"
    }
   },
   "source": [
    "## Initialize Rocket and classifier"
   ]
  },
  {
   "cell_type": "code",
   "execution_count": 3,
   "metadata": {
    "collapsed": false,
    "pycharm": {
     "name": "#%%\n"
    }
   },
   "outputs": [],
   "source": [
    "# Initialize Rocket\n",
    "rocket = ROCKET(c_in=train_ds.x.shape[1],\n",
    "                seq_len=train_ds.x.shape[2],\n",
    "                n_kernels=NUM_KERNELS,\n",
    "                normalize=NORMALIZE)\n",
    "\n",
    "# Initialize Classifier\n",
    "clf = RidgeClassifier(alpha=REG_FACTOR, random_state=SEED)"
   ]
  },
  {
   "cell_type": "markdown",
   "metadata": {
    "collapsed": false,
    "pycharm": {
     "name": "#%% md\n"
    }
   },
   "source": [
    "## Fit Model"
   ]
  },
  {
   "cell_type": "code",
   "execution_count": 4,
   "metadata": {
    "collapsed": false,
    "pycharm": {
     "name": "#%%\n"
    }
   },
   "outputs": [
    {
     "data": {
      "text/plain": "RidgeClassifier(alpha=100000.0, random_state=42)"
     },
     "execution_count": 4,
     "metadata": {},
     "output_type": "execute_result"
    }
   ],
   "source": [
    "# Batch is entire dataset\n",
    "train_batch = next(iter(train_dl))\n",
    "\n",
    "# Perform ROCKET transformation stage\n",
    "features = rocket(train_batch.x)\n",
    "\n",
    "# Fit Classifier\n",
    "clf.fit(features, train_batch.y.numpy())"
   ]
  },
  {
   "cell_type": "markdown",
   "metadata": {
    "collapsed": false,
    "pycharm": {
     "name": "#%% md\n"
    }
   },
   "source": [
    "## Evaluate on segment classification"
   ]
  },
  {
   "cell_type": "code",
   "execution_count": 9,
   "metadata": {
    "collapsed": false,
    "pycharm": {
     "name": "#%%\n"
    }
   },
   "outputs": [
    {
     "name": "stdout",
     "output_type": "stream",
     "text": [
      "Segment classification on test set:\n",
      "              precision    recall  f1-score   support\n",
      "\n",
      "          HC       0.47      0.66      0.55       121\n",
      "          PD       0.80      0.64      0.71       253\n",
      "\n",
      "    accuracy                           0.65       374\n",
      "   macro avg       0.63      0.65      0.63       374\n",
      "weighted avg       0.69      0.65      0.66       374\n",
      "\n"
     ]
    },
    {
     "data": {
      "text/plain": "<Figure size 640x480 with 2 Axes>",
      "image/png": "[encoded data removed]"
     },
     "metadata": {},
     "output_type": "display_data"
    }
   ],
   "source": [
    "labels = ['HC', 'PD']\n",
    "test_batch = next(iter(val_dl))\n",
    "\n",
    "# Perform ROCKET transformation stage\n",
    "test_features = rocket(test_batch.x)\n",
    "\n",
    "# Make predictions on test set\n",
    "pred = clf.predict(test_features)\n",
    "\n",
    "# The RidgeClassifier maps the targets to {-1, 1}, but our labels are {0, 1}\n",
    "pred[pred < 0] = 0\n",
    "\n",
    "# Compute metrics\n",
    "report = classification_report(test_batch.y.numpy(), pred, target_names=labels)\n",
    "\n",
    "# Construct the confusion matrix\n",
    "cf_matrix = confusion_matrix(test_batch.y, pred)\n",
    "\n",
    "# Plot metrics and display confusion matrix\n",
    "print(f'Segment classification on test set:\\n{report}')\n",
    "figure = ConfusionMatrixDisplay(cf_matrix, display_labels=labels).plot(cmap='copper')\n",
    "figure.ax_.set_title('segment classification')\n",
    "plt.show()"
   ]
  },
  {
   "cell_type": "code",
   "execution_count": 6,
   "outputs": [],
   "source": [
    "import numpy as np\n",
    "from torch import sigmoid\n",
    "import torch\n",
    "\n",
    "\n",
    "# Only works for binary classification. Pass either logits or scores ~[0, 1].\n",
    "def patient_soft_accuracy(*, segment_logits=None, segment_scores=None, y, z, threshold=0.2):\n",
    "    unique, inv_idx = np.unique(z, return_inverse=True)\n",
    "    patient_pred = np.zeros(unique.shape)\n",
    "    patient_label = np.zeros(unique.shape)\n",
    "    for i, p in enumerate(unique):\n",
    "        patient_mask = z == unique[i]\n",
    "        if segment_logits is not None:\n",
    "            patient_segment_scores = sigmoid(torch.from_numpy(segment_logits[patient_mask])).numpy()\n",
    "        elif segment_scores is not None:\n",
    "            patient_segment_scores = segment_scores[patient_mask]\n",
    "        else:\n",
    "            raise ValueError(\"mandatory to pass segment scores or logits\")\n",
    "        mean_pred = np.mean(patient_segment_scores, axis=-1)\n",
    "        patient_pred[i] = 1 if mean_pred > threshold else 0\n",
    "        patient_label[i] = y[patient_mask][0]\n",
    "    patient_acc = (patient_pred == patient_label).mean().item()\n",
    "    return patient_pred, patient_label, patient_acc"
   ],
   "metadata": {
    "collapsed": false,
    "pycharm": {
     "name": "#%%\n"
    }
   }
  },
  {
   "cell_type": "code",
   "execution_count": 12,
   "outputs": [
    {
     "name": "stdout",
     "output_type": "stream",
     "text": [
      "0.75\n"
     ]
    }
   ],
   "source": [
    "p_pred, p_label, p_acc = patient_soft_accuracy(segment_scores=pred, y=test_batch.y, z=test_batch.z, threshold=0.43)\n",
    "print(p_acc)"
   ],
   "metadata": {
    "collapsed": false,
    "pycharm": {
     "name": "#%%\n"
    }
   }
  }
 ],
 "metadata": {
  "kernelspec": {
   "display_name": "eyetrackpdc",
   "language": "python",
   "name": "python3"
  },
  "language_info": {
   "codemirror_mode": {
    "name": "ipython",
    "version": 3
   },
   "file_extension": ".py",
   "mimetype": "text/x-python",
   "name": "python",
   "nbconvert_exporter": "python",
   "pygments_lexer": "ipython3",
   "version": "3.10.9"
  },
  "vscode": {
   "interpreter": {
    "hash": "2dc672c21a9d49d41798d64eab36069eb53c1b78e80bf8cffffc318405fb4d08"
   }
  }
 },
 "nbformat": 4,
 "nbformat_minor": 0
}